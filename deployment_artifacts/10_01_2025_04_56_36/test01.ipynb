{
 "cells": [
  {
   "cell_type": "code",
   "execution_count": 1,
   "id": "ed20c752",
   "metadata": {},
   "outputs": [
    {
     "name": "stdout",
     "output_type": "stream",
     "text": [
      "hello\n"
     ]
    }
   ],
   "source": [
    "print(\"hello\")"
   ]
  },
  {
   "cell_type": "code",
   "execution_count": 2,
   "id": "df8308da",
   "metadata": {},
   "outputs": [],
   "source": [
    "import os\n",
    "import sys\n",
    "import pandas as pd\n",
    "import numpy as np\n",
    "import joblib"
   ]
  },
  {
   "cell_type": "code",
   "execution_count": 7,
   "id": "437ad432",
   "metadata": {},
   "outputs": [
    {
     "name": "stdout",
     "output_type": "stream",
     "text": [
      "c:\\Users\\TPWODL\\New folder_Content\\StudentPerformancePrediction-End-To-End\\deployment_artifacts\\10_01_2025_04_56_36\n",
      "['test01.ipynb']\n"
     ]
    }
   ],
   "source": [
    "import os\n",
    "\n",
    "print(os.getcwd())  # current working directory\n",
    "print(os.listdir())  # files in this directory"
   ]
  },
  {
   "cell_type": "code",
   "execution_count": 3,
   "id": "682b1fad",
   "metadata": {},
   "outputs": [],
   "source": [
    "user_input = pd.DataFrame([{\n",
    "    \"gender\": \"female\",\n",
    "    \"race_ethnicity\": \"group B\",\n",
    "    \"parental_level_of_education\": \"bachelor's degree\",\n",
    "    \"lunch\": \"standard\",\n",
    "    \"test_preparation_course\": \"none\",\n",
    "    \"reading_score\": 72,\n",
    "    \"writing_score\": 74\n",
    "}])"
   ]
  },
  {
   "cell_type": "code",
   "execution_count": null,
   "id": "08cbce33",
   "metadata": {},
   "outputs": [],
   "source": []
  },
  {
   "cell_type": "code",
   "execution_count": null,
   "id": "e8c6717a",
   "metadata": {},
   "outputs": [],
   "source": []
  },
  {
   "cell_type": "code",
   "execution_count": null,
   "id": "13f04ad6",
   "metadata": {},
   "outputs": [],
   "source": []
  }
 ],
 "metadata": {
  "kernelspec": {
   "display_name": "myenv",
   "language": "python",
   "name": "python3"
  },
  "language_info": {
   "codemirror_mode": {
    "name": "ipython",
    "version": 3
   },
   "file_extension": ".py",
   "mimetype": "text/x-python",
   "name": "python",
   "nbconvert_exporter": "python",
   "pygments_lexer": "ipython3",
   "version": "3.10.18"
  }
 },
 "nbformat": 4,
 "nbformat_minor": 5
}
