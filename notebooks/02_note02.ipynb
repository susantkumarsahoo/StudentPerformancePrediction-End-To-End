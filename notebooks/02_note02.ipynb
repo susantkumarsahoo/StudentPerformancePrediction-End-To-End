{
 "cells": [
  {
   "cell_type": "code",
   "execution_count": 1,
   "id": "f9e30861",
   "metadata": {},
   "outputs": [
    {
     "name": "stdout",
     "output_type": "stream",
     "text": [
      "ok\n"
     ]
    }
   ],
   "source": [
    "print('ok')"
   ]
  },
  {
   "cell_type": "markdown",
   "id": "69d27b4d",
   "metadata": {},
   "source": [
    "# Model Training\n"
   ]
  },
  {
   "cell_type": "code",
   "execution_count": 32,
   "id": "3eaad406",
   "metadata": {},
   "outputs": [],
   "source": [
    "import numpy as np\n",
    "import pandas as pd\n",
    "import matplotlib.pyplot as plt\n",
    "import seaborn as sns\n",
    "from sklearn.metrics import mean_squared_error, r2_score\n",
    "from sklearn.neighbors import KNeighborsRegressor\n",
    "from sklearn.tree import DecisionTreeRegressor\n",
    "from sklearn.ensemble import RandomForestRegressor,AdaBoostRegressor\n",
    "from sklearn.svm import SVR\n",
    "from sklearn.linear_model import LinearRegression, Ridge,Lasso\n",
    "from sklearn.metrics import r2_score, mean_absolute_error, mean_squared_error\n",
    "from sklearn.model_selection import RandomizedSearchCV\n",
    "from catboost import CatBoostRegressor\n",
    "from xgboost import XGBRegressor\n",
    "import warnings"
   ]
  },
  {
   "cell_type": "markdown",
   "id": "7945cf5c",
   "metadata": {},
   "source": [
    "### Import the CSV Data as Pandas DataFrame"
   ]
  },
  {
   "cell_type": "code",
   "execution_count": 33,
   "id": "a6168e41",
   "metadata": {},
   "outputs": [],
   "source": [
    "df = pd.read_csv(r\"C:\\Users\\LENOVO\\MachineLearningProhects\\StudentPerformancePrediction-End-To-End\\data\\raw\\student.csv\")"
   ]
  },
  {
   "cell_type": "markdown",
   "id": "77056696",
   "metadata": {},
   "source": [
    "Show Top 5 Records"
   ]
  },
  {
   "cell_type": "code",
   "execution_count": 34,
   "id": "64d943f9",
   "metadata": {},
   "outputs": [
    {
     "data": {
      "text/html": [
       "<div>\n",
       "<style scoped>\n",
       "    .dataframe tbody tr th:only-of-type {\n",
       "        vertical-align: middle;\n",
       "    }\n",
       "\n",
       "    .dataframe tbody tr th {\n",
       "        vertical-align: top;\n",
       "    }\n",
       "\n",
       "    .dataframe thead th {\n",
       "        text-align: right;\n",
       "    }\n",
       "</style>\n",
       "<table border=\"1\" class=\"dataframe\">\n",
       "  <thead>\n",
       "    <tr style=\"text-align: right;\">\n",
       "      <th></th>\n",
       "      <th>gender</th>\n",
       "      <th>race_ethnicity</th>\n",
       "      <th>parental_level_of_education</th>\n",
       "      <th>lunch</th>\n",
       "      <th>test_preparation_course</th>\n",
       "      <th>math_score</th>\n",
       "      <th>reading_score</th>\n",
       "      <th>writing_score</th>\n",
       "    </tr>\n",
       "  </thead>\n",
       "  <tbody>\n",
       "    <tr>\n",
       "      <th>0</th>\n",
       "      <td>female</td>\n",
       "      <td>group B</td>\n",
       "      <td>bachelor's degree</td>\n",
       "      <td>standard</td>\n",
       "      <td>none</td>\n",
       "      <td>72</td>\n",
       "      <td>72</td>\n",
       "      <td>74</td>\n",
       "    </tr>\n",
       "    <tr>\n",
       "      <th>1</th>\n",
       "      <td>female</td>\n",
       "      <td>group C</td>\n",
       "      <td>some college</td>\n",
       "      <td>standard</td>\n",
       "      <td>completed</td>\n",
       "      <td>69</td>\n",
       "      <td>90</td>\n",
       "      <td>88</td>\n",
       "    </tr>\n",
       "    <tr>\n",
       "      <th>2</th>\n",
       "      <td>female</td>\n",
       "      <td>group B</td>\n",
       "      <td>master's degree</td>\n",
       "      <td>standard</td>\n",
       "      <td>none</td>\n",
       "      <td>90</td>\n",
       "      <td>95</td>\n",
       "      <td>93</td>\n",
       "    </tr>\n",
       "    <tr>\n",
       "      <th>3</th>\n",
       "      <td>male</td>\n",
       "      <td>group A</td>\n",
       "      <td>associate's degree</td>\n",
       "      <td>free/reduced</td>\n",
       "      <td>none</td>\n",
       "      <td>47</td>\n",
       "      <td>57</td>\n",
       "      <td>44</td>\n",
       "    </tr>\n",
       "    <tr>\n",
       "      <th>4</th>\n",
       "      <td>male</td>\n",
       "      <td>group C</td>\n",
       "      <td>some college</td>\n",
       "      <td>standard</td>\n",
       "      <td>none</td>\n",
       "      <td>76</td>\n",
       "      <td>78</td>\n",
       "      <td>75</td>\n",
       "    </tr>\n",
       "  </tbody>\n",
       "</table>\n",
       "</div>"
      ],
      "text/plain": [
       "   gender race_ethnicity parental_level_of_education         lunch  \\\n",
       "0  female        group B           bachelor's degree      standard   \n",
       "1  female        group C                some college      standard   \n",
       "2  female        group B             master's degree      standard   \n",
       "3    male        group A          associate's degree  free/reduced   \n",
       "4    male        group C                some college      standard   \n",
       "\n",
       "  test_preparation_course  math_score  reading_score  writing_score  \n",
       "0                    none          72             72             74  \n",
       "1               completed          69             90             88  \n",
       "2                    none          90             95             93  \n",
       "3                    none          47             57             44  \n",
       "4                    none          76             78             75  "
      ]
     },
     "execution_count": 34,
     "metadata": {},
     "output_type": "execute_result"
    }
   ],
   "source": [
    "df.head()"
   ]
  },
  {
   "cell_type": "code",
   "execution_count": 35,
   "id": "4ec1de58",
   "metadata": {},
   "outputs": [],
   "source": [
    "X = df.drop(columns=['math_score'],axis=1)"
   ]
  },
  {
   "cell_type": "code",
   "execution_count": 36,
   "id": "4b813853",
   "metadata": {},
   "outputs": [
    {
     "data": {
      "text/html": [
       "<div>\n",
       "<style scoped>\n",
       "    .dataframe tbody tr th:only-of-type {\n",
       "        vertical-align: middle;\n",
       "    }\n",
       "\n",
       "    .dataframe tbody tr th {\n",
       "        vertical-align: top;\n",
       "    }\n",
       "\n",
       "    .dataframe thead th {\n",
       "        text-align: right;\n",
       "    }\n",
       "</style>\n",
       "<table border=\"1\" class=\"dataframe\">\n",
       "  <thead>\n",
       "    <tr style=\"text-align: right;\">\n",
       "      <th></th>\n",
       "      <th>gender</th>\n",
       "      <th>race_ethnicity</th>\n",
       "      <th>parental_level_of_education</th>\n",
       "      <th>lunch</th>\n",
       "      <th>test_preparation_course</th>\n",
       "      <th>reading_score</th>\n",
       "      <th>writing_score</th>\n",
       "    </tr>\n",
       "  </thead>\n",
       "  <tbody>\n",
       "    <tr>\n",
       "      <th>0</th>\n",
       "      <td>female</td>\n",
       "      <td>group B</td>\n",
       "      <td>bachelor's degree</td>\n",
       "      <td>standard</td>\n",
       "      <td>none</td>\n",
       "      <td>72</td>\n",
       "      <td>74</td>\n",
       "    </tr>\n",
       "    <tr>\n",
       "      <th>1</th>\n",
       "      <td>female</td>\n",
       "      <td>group C</td>\n",
       "      <td>some college</td>\n",
       "      <td>standard</td>\n",
       "      <td>completed</td>\n",
       "      <td>90</td>\n",
       "      <td>88</td>\n",
       "    </tr>\n",
       "    <tr>\n",
       "      <th>2</th>\n",
       "      <td>female</td>\n",
       "      <td>group B</td>\n",
       "      <td>master's degree</td>\n",
       "      <td>standard</td>\n",
       "      <td>none</td>\n",
       "      <td>95</td>\n",
       "      <td>93</td>\n",
       "    </tr>\n",
       "    <tr>\n",
       "      <th>3</th>\n",
       "      <td>male</td>\n",
       "      <td>group A</td>\n",
       "      <td>associate's degree</td>\n",
       "      <td>free/reduced</td>\n",
       "      <td>none</td>\n",
       "      <td>57</td>\n",
       "      <td>44</td>\n",
       "    </tr>\n",
       "    <tr>\n",
       "      <th>4</th>\n",
       "      <td>male</td>\n",
       "      <td>group C</td>\n",
       "      <td>some college</td>\n",
       "      <td>standard</td>\n",
       "      <td>none</td>\n",
       "      <td>78</td>\n",
       "      <td>75</td>\n",
       "    </tr>\n",
       "  </tbody>\n",
       "</table>\n",
       "</div>"
      ],
      "text/plain": [
       "   gender race_ethnicity parental_level_of_education         lunch  \\\n",
       "0  female        group B           bachelor's degree      standard   \n",
       "1  female        group C                some college      standard   \n",
       "2  female        group B             master's degree      standard   \n",
       "3    male        group A          associate's degree  free/reduced   \n",
       "4    male        group C                some college      standard   \n",
       "\n",
       "  test_preparation_course  reading_score  writing_score  \n",
       "0                    none             72             74  \n",
       "1               completed             90             88  \n",
       "2                    none             95             93  \n",
       "3                    none             57             44  \n",
       "4                    none             78             75  "
      ]
     },
     "execution_count": 36,
     "metadata": {},
     "output_type": "execute_result"
    }
   ],
   "source": [
    "X.head()"
   ]
  },
  {
   "cell_type": "code",
   "execution_count": 37,
   "id": "0fa48a90",
   "metadata": {},
   "outputs": [
    {
     "name": "stdout",
     "output_type": "stream",
     "text": [
      "Categories in 'gender' variable:      ['female' 'male']\n",
      "Categories in 'race_ethnicity' variable:   ['group B' 'group C' 'group A' 'group D' 'group E']\n",
      "Categories in'parental level of education' variable: [\"bachelor's degree\" 'some college' \"master's degree\" \"associate's degree\"\n",
      " 'high school' 'some high school']\n",
      "Categories in 'lunch' variable:      ['standard' 'free/reduced']\n",
      "Categories in 'test preparation course' variable:      ['none' 'completed']\n"
     ]
    }
   ],
   "source": [
    "print(\"Categories in 'gender' variable:     \",end=\" \" )\n",
    "print(df['gender'].unique())\n",
    "\n",
    "print(\"Categories in 'race_ethnicity' variable:  \",end=\" \")\n",
    "print(df['race_ethnicity'].unique())\n",
    "\n",
    "print(\"Categories in'parental level of education' variable:\",end=\" \" )\n",
    "print(df['parental_level_of_education'].unique())\n",
    "\n",
    "print(\"Categories in 'lunch' variable:     \",end=\" \" )\n",
    "print(df['lunch'].unique())\n",
    "\n",
    "print(\"Categories in 'test preparation course' variable:     \",end=\" \" )\n",
    "print(df['test_preparation_course'].unique())"
   ]
  },
  {
   "cell_type": "code",
   "execution_count": 39,
   "id": "26000e1c",
   "metadata": {},
   "outputs": [],
   "source": [
    "y = df['math_score']"
   ]
  },
  {
   "cell_type": "code",
   "execution_count": 40,
   "id": "0ce912ef",
   "metadata": {},
   "outputs": [
    {
     "data": {
      "text/plain": [
       "0      72\n",
       "1      69\n",
       "2      90\n",
       "3      47\n",
       "4      76\n",
       "       ..\n",
       "995    88\n",
       "996    62\n",
       "997    59\n",
       "998    68\n",
       "999    77\n",
       "Name: math_score, Length: 1000, dtype: int64"
      ]
     },
     "execution_count": 40,
     "metadata": {},
     "output_type": "execute_result"
    }
   ],
   "source": [
    "y"
   ]
  },
  {
   "cell_type": "code",
   "execution_count": 47,
   "id": "d6e452f4",
   "metadata": {},
   "outputs": [],
   "source": [
    "# Create Column Transformer with 3 types of transformers\n",
    "num_features = X.select_dtypes(exclude=\"object\").columns\n",
    "cat_features = X.select_dtypes(include=\"object\").columns"
   ]
  },
  {
   "cell_type": "code",
   "execution_count": 48,
   "id": "e5cd726c",
   "metadata": {},
   "outputs": [
    {
     "data": {
      "text/plain": [
       "Index(['reading_score', 'writing_score'], dtype='object')"
      ]
     },
     "execution_count": 48,
     "metadata": {},
     "output_type": "execute_result"
    }
   ],
   "source": [
    "num_features"
   ]
  },
  {
   "cell_type": "code",
   "execution_count": 49,
   "id": "4b065d1a",
   "metadata": {},
   "outputs": [
    {
     "data": {
      "text/plain": [
       "Index(['gender', 'race_ethnicity', 'parental_level_of_education', 'lunch',\n",
       "       'test_preparation_course'],\n",
       "      dtype='object')"
      ]
     },
     "execution_count": 49,
     "metadata": {},
     "output_type": "execute_result"
    }
   ],
   "source": [
    "cat_features"
   ]
  },
  {
   "cell_type": "code",
   "execution_count": 51,
   "id": "c1192bab",
   "metadata": {},
   "outputs": [
    {
     "name": "stdout",
     "output_type": "stream",
     "text": [
      "Preprocessor saved as 'preprocessor.pkl'\n"
     ]
    }
   ],
   "source": [
    "from sklearn.preprocessing import OneHotEncoder, StandardScaler\n",
    "from sklearn.compose import ColumnTransformer\n",
    "import joblib\n",
    "\n",
    "# Define transformers\n",
    "nume_transformer = StandardScaler()\n",
    "oh_transformer = OneHotEncoder(handle_unknown=\"ignore\")\n",
    "\n",
    "# Create preprocessor\n",
    "preprocessor = ColumnTransformer(\n",
    "    transformers=[\n",
    "        (\"onehot\", oh_transformer, cat_features),\n",
    "        (\"scaler\", nume_transformer, num_features),        \n",
    "    ]\n",
    ")\n",
    "\n",
    "# ✅ Fit preprocessor on raw data\n",
    "X_transformed = preprocessor.fit_transform(X)\n",
    "\n",
    "# ✅ Save fitted preprocessor\n",
    "joblib.dump(preprocessor, \"preprocessor.pkl\")\n",
    "print(\"Preprocessor saved as 'preprocessor.pkl'\")"
   ]
  },
  {
   "cell_type": "code",
   "execution_count": 52,
   "id": "c200f543",
   "metadata": {},
   "outputs": [
    {
     "data": {
      "text/plain": [
       "array([[ 1.        ,  0.        ,  0.        , ...,  1.        ,\n",
       "         0.19399858,  0.39149181],\n",
       "       [ 1.        ,  0.        ,  0.        , ...,  0.        ,\n",
       "         1.42747598,  1.31326868],\n",
       "       [ 1.        ,  0.        ,  0.        , ...,  1.        ,\n",
       "         1.77010859,  1.64247471],\n",
       "       ...,\n",
       "       [ 1.        ,  0.        ,  0.        , ...,  0.        ,\n",
       "         0.12547206, -0.20107904],\n",
       "       [ 1.        ,  0.        ,  0.        , ...,  0.        ,\n",
       "         0.60515772,  0.58901542],\n",
       "       [ 1.        ,  0.        ,  0.        , ...,  1.        ,\n",
       "         1.15336989,  1.18158627]], shape=(1000, 19))"
      ]
     },
     "execution_count": 52,
     "metadata": {},
     "output_type": "execute_result"
    }
   ],
   "source": [
    "X_transformed"
   ]
  },
  {
   "cell_type": "code",
   "execution_count": 55,
   "id": "e55e3849",
   "metadata": {},
   "outputs": [
    {
     "data": {
      "text/plain": [
       "((800, 19), (200, 19))"
      ]
     },
     "execution_count": 55,
     "metadata": {},
     "output_type": "execute_result"
    }
   ],
   "source": [
    "# separate dataset into train and test\n",
    "from sklearn.model_selection import train_test_split\n",
    "X_train, X_test, y_train, y_test = train_test_split(X_transformed,y,test_size=0.2,random_state=42)\n",
    "X_train.shape, X_test.shape"
   ]
  },
  {
   "cell_type": "markdown",
   "id": "43266202",
   "metadata": {},
   "source": [
    "### Create an Evaluate Function to give all metrics after model Training"
   ]
  },
  {
   "cell_type": "code",
   "execution_count": 56,
   "id": "4691fb29",
   "metadata": {},
   "outputs": [],
   "source": [
    "import numpy as np\n",
    "import pandas as pd\n",
    "from sklearn.model_selection import train_test_split, GridSearchCV, RandomizedSearchCV\n",
    "from sklearn.metrics import mean_absolute_error, mean_squared_error, r2_score\n",
    "from sklearn.linear_model import LinearRegression, Lasso, Ridge\n",
    "from sklearn.neighbors import KNeighborsRegressor\n",
    "from sklearn.tree import DecisionTreeRegressor\n",
    "from sklearn.ensemble import RandomForestRegressor, AdaBoostRegressor\n",
    "from xgboost import XGBRegressor\n",
    "from catboost import CatBoostRegressor\n",
    "\n",
    "# -----------------------\n",
    "# Utility Functions\n",
    "# -----------------------\n",
    "\n",
    "def evaluate_model(true, predicted):\n",
    "    \"\"\"Return MAE, RMSE, and R2 score\"\"\"\n",
    "    mae = mean_absolute_error(true, predicted)\n",
    "    rmse = np.sqrt(mean_squared_error(true, predicted))\n",
    "    r2 = r2_score(true, predicted)\n",
    "    return {\"MAE\": mae, \"RMSE\": rmse, \"R2\": r2}\n",
    "\n",
    "def train_and_evaluate(model, X_train, X_test, y_train, y_test):\n",
    "    \"\"\"Train model, predict, and evaluate\"\"\"\n",
    "    model.fit(X_train, y_train)\n",
    "    y_train_pred = model.predict(X_train)\n",
    "    y_test_pred = model.predict(X_test)\n",
    "\n",
    "    return {\n",
    "        \"Train\": evaluate_model(y_train, y_train_pred),\n",
    "        \"Test\": evaluate_model(y_test, y_test_pred),\n",
    "    }\n",
    "\n",
    "def hyperparameter_tuning(model, param_grid, X_train, y_train, search_type=\"grid\", cv=3, n_iter=20):\n",
    "    \"\"\"Perform hyperparameter tuning using GridSearchCV or RandomizedSearchCV\"\"\"\n",
    "    if search_type == \"grid\":\n",
    "        search = GridSearchCV(model, param_grid, cv=cv, scoring=\"r2\", n_jobs=-1, verbose=0)\n",
    "    else:\n",
    "        search = RandomizedSearchCV(model, param_grid, cv=cv, scoring=\"r2\", n_iter=n_iter, n_jobs=-1, random_state=42, verbose=0)\n",
    "\n",
    "    search.fit(X_train, y_train)\n",
    "    return search.best_estimator_, search.best_params_\n",
    "\n",
    "# -----------------------\n",
    "# Models and Parameters\n",
    "# -----------------------\n",
    "\n",
    "models_and_params = {\n",
    "    \"Linear Regression\": (LinearRegression(), {}),\n",
    "    \"Lasso\": (Lasso(), {\"alpha\": [0.01, 0.1, 1, 10]}),\n",
    "    \"Ridge\": (Ridge(), {\"alpha\": [0.01, 0.1, 1, 10]}),\n",
    "    \"KNN\": (KNeighborsRegressor(), {\"n_neighbors\": [3, 5, 7, 9]}),\n",
    "    \"Decision Tree\": (DecisionTreeRegressor(random_state=42), {\"max_depth\": [3, 5, 10, None]}),\n",
    "    \"Random Forest\": (RandomForestRegressor(random_state=42), {\"n_estimators\": [100, 200], \"max_depth\": [None, 10, 20]}),\n",
    "    \"XGBoost\": (XGBRegressor(random_state=42, eval_metric=\"rmse\"), {\"n_estimators\": [100, 200], \"max_depth\": [3, 5, 7]}),\n",
    "    \"CatBoost\": (CatBoostRegressor(random_state=42, verbose=0), {\"depth\": [4, 6, 8], \"learning_rate\": [0.01, 0.05, 0.1]}),\n",
    "    \"AdaBoost\": (AdaBoostRegressor(random_state=42), {\"n_estimators\": [50, 100, 200]})\n",
    "}\n",
    "\n",
    "# -----------------------\n",
    "# Main Pipeline\n",
    "# -----------------------\n",
    "\n",
    "def run_pipeline(X, y, test_size=0.2, random_state=42, tuning=True):\n",
    "    X_train, X_test, y_train, y_test = train_test_split(X, y, test_size=test_size, random_state=random_state)\n",
    "\n",
    "    results = []\n",
    "\n",
    "    for name, (model, params) in models_and_params.items():\n",
    "        print(f\"🔹 Training {name}...\")\n",
    "\n",
    "        if tuning and params:  # If tuning is enabled and params exist\n",
    "            best_model, best_params = hyperparameter_tuning(model, params, X_train, y_train, search_type=\"random\")\n",
    "            print(f\"Best Params for {name}: {best_params}\")\n",
    "            model = best_model\n",
    "\n",
    "        scores = train_and_evaluate(model, X_train, X_test, y_train, y_test)\n",
    "\n",
    "        results.append({\n",
    "            \"Model\": name,\n",
    "            \"Train_R2\": scores[\"Train\"][\"R2\"],\n",
    "            \"Test_R2\": scores[\"Test\"][\"R2\"],\n",
    "            \"Test_RMSE\": scores[\"Test\"][\"RMSE\"],\n",
    "            \"Test_MAE\": scores[\"Test\"][\"MAE\"],\n",
    "        })\n",
    "\n",
    "    results_df = pd.DataFrame(results).sort_values(by=\"Test_R2\", ascending=False).reset_index(drop=True)\n",
    "    return results_df\n",
    "\n",
    "# -----------------------\n",
    "# Example Usage\n",
    "# -----------------------\n",
    "# results_df = run_pipeline(X, y, tuning=True)\n",
    "# print(results_df)\n"
   ]
  },
  {
   "cell_type": "code",
   "execution_count": 27,
   "id": "805b6d9f",
   "metadata": {},
   "outputs": [
    {
     "name": "stdout",
     "output_type": "stream",
     "text": [
      "🔹 Training Linear Regression...\n",
      "🔹 Training Lasso...\n"
     ]
    },
    {
     "name": "stderr",
     "output_type": "stream",
     "text": [
      "c:\\Users\\LENOVO\\miniconda3\\envs\\myenv\\lib\\site-packages\\sklearn\\model_selection\\_search.py:317: UserWarning: The total space of parameters 4 is smaller than n_iter=20. Running 4 iterations. For exhaustive searches, use GridSearchCV.\n",
      "  warnings.warn(\n"
     ]
    },
    {
     "name": "stdout",
     "output_type": "stream",
     "text": [
      "Best Params for Lasso: {'alpha': 0.01}\n",
      "🔹 Training Ridge...\n",
      "Best Params for Ridge: {'alpha': 1}\n",
      "🔹 Training KNN...\n"
     ]
    },
    {
     "name": "stderr",
     "output_type": "stream",
     "text": [
      "c:\\Users\\LENOVO\\miniconda3\\envs\\myenv\\lib\\site-packages\\sklearn\\model_selection\\_search.py:317: UserWarning: The total space of parameters 4 is smaller than n_iter=20. Running 4 iterations. For exhaustive searches, use GridSearchCV.\n",
      "  warnings.warn(\n",
      "c:\\Users\\LENOVO\\miniconda3\\envs\\myenv\\lib\\site-packages\\sklearn\\model_selection\\_search.py:317: UserWarning: The total space of parameters 4 is smaller than n_iter=20. Running 4 iterations. For exhaustive searches, use GridSearchCV.\n",
      "  warnings.warn(\n"
     ]
    },
    {
     "name": "stdout",
     "output_type": "stream",
     "text": [
      "Best Params for KNN: {'n_neighbors': 9}\n",
      "🔹 Training Decision Tree...\n",
      "Best Params for Decision Tree: {'max_depth': 5}\n",
      "🔹 Training Random Forest...\n"
     ]
    },
    {
     "name": "stderr",
     "output_type": "stream",
     "text": [
      "c:\\Users\\LENOVO\\miniconda3\\envs\\myenv\\lib\\site-packages\\sklearn\\model_selection\\_search.py:317: UserWarning: The total space of parameters 4 is smaller than n_iter=20. Running 4 iterations. For exhaustive searches, use GridSearchCV.\n",
      "  warnings.warn(\n",
      "c:\\Users\\LENOVO\\miniconda3\\envs\\myenv\\lib\\site-packages\\sklearn\\model_selection\\_search.py:317: UserWarning: The total space of parameters 6 is smaller than n_iter=20. Running 6 iterations. For exhaustive searches, use GridSearchCV.\n",
      "  warnings.warn(\n"
     ]
    },
    {
     "name": "stdout",
     "output_type": "stream",
     "text": [
      "Best Params for Random Forest: {'n_estimators': 200, 'max_depth': 10}\n",
      "🔹 Training XGBoost...\n"
     ]
    },
    {
     "name": "stderr",
     "output_type": "stream",
     "text": [
      "c:\\Users\\LENOVO\\miniconda3\\envs\\myenv\\lib\\site-packages\\sklearn\\model_selection\\_search.py:317: UserWarning: The total space of parameters 6 is smaller than n_iter=20. Running 6 iterations. For exhaustive searches, use GridSearchCV.\n",
      "  warnings.warn(\n"
     ]
    },
    {
     "name": "stdout",
     "output_type": "stream",
     "text": [
      "Best Params for XGBoost: {'n_estimators': 100, 'max_depth': 3}\n",
      "🔹 Training CatBoost...\n"
     ]
    },
    {
     "name": "stderr",
     "output_type": "stream",
     "text": [
      "c:\\Users\\LENOVO\\miniconda3\\envs\\myenv\\lib\\site-packages\\sklearn\\model_selection\\_search.py:317: UserWarning: The total space of parameters 9 is smaller than n_iter=20. Running 9 iterations. For exhaustive searches, use GridSearchCV.\n",
      "  warnings.warn(\n"
     ]
    },
    {
     "name": "stdout",
     "output_type": "stream",
     "text": [
      "Best Params for CatBoost: {'learning_rate': 0.01, 'depth': 4}\n",
      "🔹 Training AdaBoost...\n"
     ]
    },
    {
     "name": "stderr",
     "output_type": "stream",
     "text": [
      "c:\\Users\\LENOVO\\miniconda3\\envs\\myenv\\lib\\site-packages\\sklearn\\model_selection\\_search.py:317: UserWarning: The total space of parameters 3 is smaller than n_iter=20. Running 3 iterations. For exhaustive searches, use GridSearchCV.\n",
      "  warnings.warn(\n"
     ]
    },
    {
     "name": "stdout",
     "output_type": "stream",
     "text": [
      "Best Params for AdaBoost: {'n_estimators': 200}\n",
      "               Model  Train_R2   Test_R2  Test_RMSE  Test_MAE\n",
      "0              Lasso  0.874274  0.880888   5.383737  4.204596\n",
      "1              Ridge  0.874304  0.880593   5.390387  4.211101\n",
      "2  Linear Regression  0.874317  0.880433   5.393994  4.214763\n",
      "3           CatBoost  0.888959  0.871438   5.593224  4.280585\n",
      "4            XGBoost  0.931863  0.864628   5.739440  4.384700\n",
      "5      Random Forest  0.965851  0.855180   5.936358  4.592756\n",
      "6           AdaBoost  0.854845  0.853037   5.980117  4.628317\n",
      "7      Decision Tree  0.855011  0.824230   6.540001  4.931523\n",
      "8                KNN  0.840059  0.790877   7.133563  5.569444\n"
     ]
    }
   ],
   "source": [
    "results_df = run_pipeline(X, y, tuning=True)\n",
    "print(results_df)"
   ]
  },
  {
   "cell_type": "code",
   "execution_count": 57,
   "id": "5afc708f",
   "metadata": {},
   "outputs": [
    {
     "name": "stdout",
     "output_type": "stream",
     "text": [
      "               Model  Train_R2   Test_R2  Test_RMSE  Test_MAE\n",
      "0              Lasso  0.874274  0.880888   5.383737  4.204596\n",
      "1              Ridge  0.874304  0.880593   5.390387  4.211101\n",
      "2  Linear Regression  0.874317  0.880433   5.393994  4.214763\n",
      "3           CatBoost  0.888959  0.871438   5.593224  4.280585\n",
      "4            XGBoost  0.931863  0.864628   5.739440  4.384700\n",
      "5      Random Forest  0.965851  0.855180   5.936358  4.592756\n",
      "6           AdaBoost  0.854845  0.853037   5.980117  4.628317\n",
      "7      Decision Tree  0.855011  0.824230   6.540001  4.931523\n",
      "8                KNN  0.840059  0.790877   7.133563  5.569444\n"
     ]
    }
   ],
   "source": [
    "print(results_df)"
   ]
  },
  {
   "cell_type": "code",
   "execution_count": 58,
   "id": "b8ce383e",
   "metadata": {},
   "outputs": [
    {
     "name": "stdout",
     "output_type": "stream",
     "text": [
      "Model saved as 'lasso_model.pkl'\n"
     ]
    }
   ],
   "source": [
    "# 1️⃣ Import joblib\n",
    "import joblib\n",
    "from sklearn.linear_model import Lasso\n",
    "\n",
    "# 2️⃣ Train your Lasso model (if not already trained)\n",
    "lasso_model = Lasso(alpha=0.1, random_state=42)  # you can set alpha from tuning\n",
    "lasso_model.fit(X_train, y_train)\n",
    "\n",
    "# 3️⃣ Save the trained model to a file\n",
    "joblib.dump(lasso_model, \"lasso_model.pkl\")\n",
    "print(\"Model saved as 'lasso_model.pkl'\")\n",
    "\n",
    "# 4️⃣ Load the model later for prediction\n",
    "loaded_model = joblib.load(\"lasso_model.pkl\")\n",
    "y_pred = loaded_model.predict(X_test)\n"
   ]
  },
  {
   "cell_type": "code",
   "execution_count": 61,
   "id": "8c02a7d9",
   "metadata": {},
   "outputs": [],
   "source": [
    "user_input = pd.DataFrame([{\n",
    "    \"gender\": \"female\",\n",
    "    \"race_ethnicity\": \"group B\",\n",
    "    \"parental_level_of_education\": \"bachelor's degree\",\n",
    "    \"lunch\": \"standard\",\n",
    "    \"test_preparation_course\": \"none\",\n",
    "    \"reading_score\": 72,\n",
    "    \"writing_score\": 74\n",
    "}])"
   ]
  },
  {
   "cell_type": "code",
   "execution_count": 62,
   "id": "68627fc7",
   "metadata": {},
   "outputs": [
    {
     "name": "stdout",
     "output_type": "stream",
     "text": [
      "🎯 Predicted Math Score: 66.33453886317913\n"
     ]
    }
   ],
   "source": [
    "# Load both\n",
    "preprocessor = joblib.load(\"preprocessor.pkl\")\n",
    "model = joblib.load(\"lasso_model.pkl\")\n",
    "\n",
    "# Transform user input\n",
    "X_user = preprocessor.transform(user_input)\n",
    "\n",
    "# Predict\n",
    "predicted_score = model.predict(X_user)\n",
    "print(\"🎯 Predicted Math Score:\", predicted_score[0])\n"
   ]
  }
 ],
 "metadata": {
  "kernelspec": {
   "display_name": "myenv",
   "language": "python",
   "name": "python3"
  },
  "language_info": {
   "codemirror_mode": {
    "name": "ipython",
    "version": 3
   },
   "file_extension": ".py",
   "mimetype": "text/x-python",
   "name": "python",
   "nbconvert_exporter": "python",
   "pygments_lexer": "ipython3",
   "version": "3.10.18"
  }
 },
 "nbformat": 4,
 "nbformat_minor": 5
}
